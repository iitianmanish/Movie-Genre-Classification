{
  "cells": [
    {
      "cell_type": "code",
      "execution_count": null,
      "id": "10e64551",
      "metadata": {
        "_cell_guid": "b1076dfc-b9ad-4769-8c92-a6c4dae69d19",
        "_uuid": "8f2839f25d086af736a60e9eeb907d3b93b6e0e5",
        "execution": {
          "iopub.execute_input": "2024-08-03T16:11:53.362181Z",
          "iopub.status.busy": "2024-08-03T16:11:53.361763Z",
          "iopub.status.idle": "2024-08-03T16:11:56.853674Z",
          "shell.execute_reply": "2024-08-03T16:11:56.852425Z"
        },
        "papermill": {
          "duration": 3.507333,
          "end_time": "2024-08-03T16:11:56.856415",
          "exception": false,
          "start_time": "2024-08-03T16:11:53.349082",
          "status": "completed"
        },
        "tags": [],
        "id": "10e64551"
      },
      "outputs": [],
      "source": [
        "import re\n",
        "import string\n",
        "import nltk\n",
        "import pandas as pd\n",
        "import matplotlib.pyplot as plt\n",
        "import seaborn as sns\n",
        "from nltk.corpus import stopwords\n",
        "from nltk.tokenize import word_tokenize\n",
        "from nltk.stem import WordNetLemmatizer\n",
        "from sklearn.feature_extraction.text import TfidfVectorizer\n",
        "from sklearn.model_selection import train_test_split\n",
        "from sklearn.svm import SVC\n",
        "from sklearn.metrics import accuracy_score, confusion_matrix, classification_report\n",
        "from sklearn.pipeline import Pipeline\n",
        "from sklearn.preprocessing import LabelEncoder"
      ]
    },
    {
      "cell_type": "code",
      "execution_count": null,
      "id": "6e68b84a",
      "metadata": {
        "execution": {
          "iopub.execute_input": "2024-08-03T16:11:56.872056Z",
          "iopub.status.busy": "2024-08-03T16:11:56.871530Z",
          "iopub.status.idle": "2024-08-03T16:11:57.719762Z",
          "shell.execute_reply": "2024-08-03T16:11:57.718388Z"
        },
        "papermill": {
          "duration": 0.859422,
          "end_time": "2024-08-03T16:11:57.722829",
          "exception": false,
          "start_time": "2024-08-03T16:11:56.863407",
          "status": "completed"
        },
        "tags": [],
        "id": "6e68b84a"
      },
      "outputs": [],
      "source": [
        "# Load the training data\n",
        "train_path = \"/kaggle/input/genre-classification-dataset-imdb/Genre Classification Dataset/train_data.txt\"\n",
        "train_data = pd.read_csv(train_path, sep=':::', names=['Title', 'Genre', 'Description'], engine='python')\n"
      ]
    },
    {
      "cell_type": "code",
      "execution_count": null,
      "id": "a1396339",
      "metadata": {
        "execution": {
          "iopub.execute_input": "2024-08-03T16:11:57.742982Z",
          "iopub.status.busy": "2024-08-03T16:11:57.742035Z",
          "iopub.status.idle": "2024-08-03T16:11:57.751987Z",
          "shell.execute_reply": "2024-08-03T16:11:57.750677Z"
        },
        "papermill": {
          "duration": 0.026167,
          "end_time": "2024-08-03T16:11:57.758475",
          "exception": false,
          "start_time": "2024-08-03T16:11:57.732308",
          "status": "completed"
        },
        "tags": [],
        "id": "a1396339",
        "outputId": "7af20070-8a26-4fdb-e550-876e242513f1"
      },
      "outputs": [
        {
          "data": {
            "text/plain": [
              "Index(['Title', 'Genre', 'Description'], dtype='object')"
            ]
          },
          "execution_count": 3,
          "metadata": {},
          "output_type": "execute_result"
        }
      ],
      "source": [
        "train_data.columns"
      ]
    },
    {
      "cell_type": "code",
      "execution_count": null,
      "id": "02c2e39a",
      "metadata": {
        "execution": {
          "iopub.execute_input": "2024-08-03T16:11:57.776542Z",
          "iopub.status.busy": "2024-08-03T16:11:57.775261Z",
          "iopub.status.idle": "2024-08-03T16:11:57.798695Z",
          "shell.execute_reply": "2024-08-03T16:11:57.797318Z"
        },
        "papermill": {
          "duration": 0.035,
          "end_time": "2024-08-03T16:11:57.801393",
          "exception": false,
          "start_time": "2024-08-03T16:11:57.766393",
          "status": "completed"
        },
        "tags": [],
        "id": "02c2e39a",
        "outputId": "77f5a7e2-3110-4b2c-9704-3c765f371461"
      },
      "outputs": [
        {
          "data": {
            "text/html": [
              "<div>\n",
              "<style scoped>\n",
              "    .dataframe tbody tr th:only-of-type {\n",
              "        vertical-align: middle;\n",
              "    }\n",
              "\n",
              "    .dataframe tbody tr th {\n",
              "        vertical-align: top;\n",
              "    }\n",
              "\n",
              "    .dataframe thead th {\n",
              "        text-align: right;\n",
              "    }\n",
              "</style>\n",
              "<table border=\"1\" class=\"dataframe\">\n",
              "  <thead>\n",
              "    <tr style=\"text-align: right;\">\n",
              "      <th></th>\n",
              "      <th>Title</th>\n",
              "      <th>Genre</th>\n",
              "      <th>Description</th>\n",
              "    </tr>\n",
              "  </thead>\n",
              "  <tbody>\n",
              "    <tr>\n",
              "      <th>1</th>\n",
              "      <td>Oscar et la dame rose (2009)</td>\n",
              "      <td>drama</td>\n",
              "      <td>Listening in to a conversation between his do...</td>\n",
              "    </tr>\n",
              "    <tr>\n",
              "      <th>2</th>\n",
              "      <td>Cupid (1997)</td>\n",
              "      <td>thriller</td>\n",
              "      <td>A brother and sister with a past incestuous r...</td>\n",
              "    </tr>\n",
              "    <tr>\n",
              "      <th>3</th>\n",
              "      <td>Young, Wild and Wonderful (1980)</td>\n",
              "      <td>adult</td>\n",
              "      <td>As the bus empties the students for their fie...</td>\n",
              "    </tr>\n",
              "    <tr>\n",
              "      <th>4</th>\n",
              "      <td>The Secret Sin (1915)</td>\n",
              "      <td>drama</td>\n",
              "      <td>To help their unemployed father make ends mee...</td>\n",
              "    </tr>\n",
              "    <tr>\n",
              "      <th>5</th>\n",
              "      <td>The Unrecovered (2007)</td>\n",
              "      <td>drama</td>\n",
              "      <td>The film's title refers not only to the un-re...</td>\n",
              "    </tr>\n",
              "    <tr>\n",
              "      <th>6</th>\n",
              "      <td>Quality Control (2011)</td>\n",
              "      <td>documentary</td>\n",
              "      <td>Quality Control consists of a series of 16mm ...</td>\n",
              "    </tr>\n",
              "    <tr>\n",
              "      <th>7</th>\n",
              "      <td>\"Pink Slip\" (2009)</td>\n",
              "      <td>comedy</td>\n",
              "      <td>In tough economic times Max and Joey have all...</td>\n",
              "    </tr>\n",
              "    <tr>\n",
              "      <th>8</th>\n",
              "      <td>One Step Away (1985)</td>\n",
              "      <td>crime</td>\n",
              "      <td>Ron Petrie (Keanu Reeves) is a troubled teen ...</td>\n",
              "    </tr>\n",
              "    <tr>\n",
              "      <th>9</th>\n",
              "      <td>\"Desperate Hours\" (2016)</td>\n",
              "      <td>reality-tv</td>\n",
              "      <td>A sudden calamitous event, causing great loss...</td>\n",
              "    </tr>\n",
              "    <tr>\n",
              "      <th>10</th>\n",
              "      <td>Spirits (2014/I)</td>\n",
              "      <td>horror</td>\n",
              "      <td>Four high school students embark on a terrify...</td>\n",
              "    </tr>\n",
              "  </tbody>\n",
              "</table>\n",
              "</div>"
            ],
            "text/plain": [
              "                                 Title          Genre  \\\n",
              "1        Oscar et la dame rose (2009)          drama    \n",
              "2                        Cupid (1997)       thriller    \n",
              "3    Young, Wild and Wonderful (1980)          adult    \n",
              "4               The Secret Sin (1915)          drama    \n",
              "5              The Unrecovered (2007)          drama    \n",
              "6              Quality Control (2011)    documentary    \n",
              "7                  \"Pink Slip\" (2009)         comedy    \n",
              "8                One Step Away (1985)          crime    \n",
              "9            \"Desperate Hours\" (2016)     reality-tv    \n",
              "10                   Spirits (2014/I)         horror    \n",
              "\n",
              "                                          Description  \n",
              "1    Listening in to a conversation between his do...  \n",
              "2    A brother and sister with a past incestuous r...  \n",
              "3    As the bus empties the students for their fie...  \n",
              "4    To help their unemployed father make ends mee...  \n",
              "5    The film's title refers not only to the un-re...  \n",
              "6    Quality Control consists of a series of 16mm ...  \n",
              "7    In tough economic times Max and Joey have all...  \n",
              "8    Ron Petrie (Keanu Reeves) is a troubled teen ...  \n",
              "9    A sudden calamitous event, causing great loss...  \n",
              "10   Four high school students embark on a terrify...  "
            ]
          },
          "execution_count": 4,
          "metadata": {},
          "output_type": "execute_result"
        }
      ],
      "source": [
        "train_data.head(10)"
      ]
    },
    {
      "cell_type": "code",
      "execution_count": null,
      "id": "fa432b8b",
      "metadata": {
        "execution": {
          "iopub.execute_input": "2024-08-03T16:11:57.817894Z",
          "iopub.status.busy": "2024-08-03T16:11:57.817486Z",
          "iopub.status.idle": "2024-08-03T16:11:57.842167Z",
          "shell.execute_reply": "2024-08-03T16:11:57.840979Z"
        },
        "papermill": {
          "duration": 0.035955,
          "end_time": "2024-08-03T16:11:57.844734",
          "exception": false,
          "start_time": "2024-08-03T16:11:57.808779",
          "status": "completed"
        },
        "tags": [],
        "id": "fa432b8b",
        "outputId": "fb1732a7-e258-4954-933d-087306483ceb"
      },
      "outputs": [
        {
          "data": {
            "text/plain": [
              "Title          0\n",
              "Genre          0\n",
              "Description    0\n",
              "dtype: int64"
            ]
          },
          "execution_count": 5,
          "metadata": {},
          "output_type": "execute_result"
        }
      ],
      "source": [
        "train_data.isnull().sum()"
      ]
    },
    {
      "cell_type": "code",
      "execution_count": null,
      "id": "63c80321",
      "metadata": {
        "execution": {
          "iopub.execute_input": "2024-08-03T16:11:57.861163Z",
          "iopub.status.busy": "2024-08-03T16:11:57.860777Z",
          "iopub.status.idle": "2024-08-03T16:11:57.898005Z",
          "shell.execute_reply": "2024-08-03T16:11:57.896614Z"
        },
        "papermill": {
          "duration": 0.048869,
          "end_time": "2024-08-03T16:11:57.900980",
          "exception": false,
          "start_time": "2024-08-03T16:11:57.852111",
          "status": "completed"
        },
        "tags": [],
        "id": "63c80321",
        "outputId": "c9b3bb97-a328-47bc-ded6-0873ae71c3df"
      },
      "outputs": [
        {
          "name": "stdout",
          "output_type": "stream",
          "text": [
            "<class 'pandas.core.frame.DataFrame'>\n",
            "Index: 54214 entries, 1 to 54214\n",
            "Data columns (total 3 columns):\n",
            " #   Column       Non-Null Count  Dtype \n",
            "---  ------       --------------  ----- \n",
            " 0   Title        54214 non-null  object\n",
            " 1   Genre        54214 non-null  object\n",
            " 2   Description  54214 non-null  object\n",
            "dtypes: object(3)\n",
            "memory usage: 1.7+ MB\n"
          ]
        }
      ],
      "source": [
        "train_data.info()"
      ]
    },
    {
      "cell_type": "code",
      "execution_count": null,
      "id": "7439504d",
      "metadata": {
        "execution": {
          "iopub.execute_input": "2024-08-03T16:11:57.918054Z",
          "iopub.status.busy": "2024-08-03T16:11:57.917665Z",
          "iopub.status.idle": "2024-08-03T16:11:58.043515Z",
          "shell.execute_reply": "2024-08-03T16:11:58.042158Z"
        },
        "papermill": {
          "duration": 0.137755,
          "end_time": "2024-08-03T16:11:58.046300",
          "exception": false,
          "start_time": "2024-08-03T16:11:57.908545",
          "status": "completed"
        },
        "tags": [],
        "id": "7439504d",
        "outputId": "c92cc1b7-84da-410e-b5c7-4c3a41b7be15"
      },
      "outputs": [
        {
          "data": {
            "text/html": [
              "<div>\n",
              "<style scoped>\n",
              "    .dataframe tbody tr th:only-of-type {\n",
              "        vertical-align: middle;\n",
              "    }\n",
              "\n",
              "    .dataframe tbody tr th {\n",
              "        vertical-align: top;\n",
              "    }\n",
              "\n",
              "    .dataframe thead th {\n",
              "        text-align: right;\n",
              "    }\n",
              "</style>\n",
              "<table border=\"1\" class=\"dataframe\">\n",
              "  <thead>\n",
              "    <tr style=\"text-align: right;\">\n",
              "      <th></th>\n",
              "      <th>Title</th>\n",
              "      <th>Genre</th>\n",
              "      <th>Description</th>\n",
              "    </tr>\n",
              "  </thead>\n",
              "  <tbody>\n",
              "    <tr>\n",
              "      <th>count</th>\n",
              "      <td>54214</td>\n",
              "      <td>54214</td>\n",
              "      <td>54214</td>\n",
              "    </tr>\n",
              "    <tr>\n",
              "      <th>unique</th>\n",
              "      <td>54214</td>\n",
              "      <td>27</td>\n",
              "      <td>54086</td>\n",
              "    </tr>\n",
              "    <tr>\n",
              "      <th>top</th>\n",
              "      <td>Oscar et la dame rose (2009)</td>\n",
              "      <td>drama</td>\n",
              "      <td>Grammy - music award of the American academy ...</td>\n",
              "    </tr>\n",
              "    <tr>\n",
              "      <th>freq</th>\n",
              "      <td>1</td>\n",
              "      <td>13613</td>\n",
              "      <td>12</td>\n",
              "    </tr>\n",
              "  </tbody>\n",
              "</table>\n",
              "</div>"
            ],
            "text/plain": [
              "                                 Title    Genre  \\\n",
              "count                            54214    54214   \n",
              "unique                           54214       27   \n",
              "top      Oscar et la dame rose (2009)    drama    \n",
              "freq                                 1    13613   \n",
              "\n",
              "                                              Description  \n",
              "count                                               54214  \n",
              "unique                                              54086  \n",
              "top      Grammy - music award of the American academy ...  \n",
              "freq                                                   12  "
            ]
          },
          "execution_count": 7,
          "metadata": {},
          "output_type": "execute_result"
        }
      ],
      "source": [
        "train_data.describe()"
      ]
    },
    {
      "cell_type": "code",
      "execution_count": null,
      "id": "a5616788",
      "metadata": {
        "execution": {
          "iopub.execute_input": "2024-08-03T16:11:58.064386Z",
          "iopub.status.busy": "2024-08-03T16:11:58.063138Z",
          "iopub.status.idle": "2024-08-03T16:11:58.784862Z",
          "shell.execute_reply": "2024-08-03T16:11:58.783644Z"
        },
        "papermill": {
          "duration": 0.733597,
          "end_time": "2024-08-03T16:11:58.787798",
          "exception": false,
          "start_time": "2024-08-03T16:11:58.054201",
          "status": "completed"
        },
        "tags": [],
        "id": "a5616788"
      },
      "outputs": [],
      "source": [
        "test_path = \"/kaggle/input/genre-classification-dataset-imdb/Genre Classification Dataset/test_data.txt\"\n",
        "test_data = pd.read_csv(test_path, sep=':::', names=['Id', 'Title', 'Description'], engine='python')\n"
      ]
    },
    {
      "cell_type": "code",
      "execution_count": null,
      "id": "d3a4f04b",
      "metadata": {
        "execution": {
          "iopub.execute_input": "2024-08-03T16:11:58.805153Z",
          "iopub.status.busy": "2024-08-03T16:11:58.804760Z",
          "iopub.status.idle": "2024-08-03T16:11:58.812043Z",
          "shell.execute_reply": "2024-08-03T16:11:58.810802Z"
        },
        "papermill": {
          "duration": 0.018867,
          "end_time": "2024-08-03T16:11:58.814544",
          "exception": false,
          "start_time": "2024-08-03T16:11:58.795677",
          "status": "completed"
        },
        "tags": [],
        "id": "d3a4f04b",
        "outputId": "e239542d-df35-4d6f-a8d9-b3afcf357741"
      },
      "outputs": [
        {
          "data": {
            "text/plain": [
              "Index(['Id', 'Title', 'Description'], dtype='object')"
            ]
          },
          "execution_count": 9,
          "metadata": {},
          "output_type": "execute_result"
        }
      ],
      "source": [
        "test_data.columns"
      ]
    },
    {
      "cell_type": "code",
      "execution_count": null,
      "id": "56b42d36",
      "metadata": {
        "execution": {
          "iopub.execute_input": "2024-08-03T16:11:58.832360Z",
          "iopub.status.busy": "2024-08-03T16:11:58.831912Z",
          "iopub.status.idle": "2024-08-03T16:11:58.845039Z",
          "shell.execute_reply": "2024-08-03T16:11:58.843998Z"
        },
        "papermill": {
          "duration": 0.024476,
          "end_time": "2024-08-03T16:11:58.847237",
          "exception": false,
          "start_time": "2024-08-03T16:11:58.822761",
          "status": "completed"
        },
        "tags": [],
        "id": "56b42d36",
        "outputId": "739a55d4-78fe-4b28-e7e7-6f8d94130d01"
      },
      "outputs": [
        {
          "data": {
            "text/html": [
              "<div>\n",
              "<style scoped>\n",
              "    .dataframe tbody tr th:only-of-type {\n",
              "        vertical-align: middle;\n",
              "    }\n",
              "\n",
              "    .dataframe tbody tr th {\n",
              "        vertical-align: top;\n",
              "    }\n",
              "\n",
              "    .dataframe thead th {\n",
              "        text-align: right;\n",
              "    }\n",
              "</style>\n",
              "<table border=\"1\" class=\"dataframe\">\n",
              "  <thead>\n",
              "    <tr style=\"text-align: right;\">\n",
              "      <th></th>\n",
              "      <th>Id</th>\n",
              "      <th>Title</th>\n",
              "      <th>Description</th>\n",
              "    </tr>\n",
              "  </thead>\n",
              "  <tbody>\n",
              "    <tr>\n",
              "      <th>0</th>\n",
              "      <td>1</td>\n",
              "      <td>Edgar's Lunch (1998)</td>\n",
              "      <td>L.R. Brane loves his life - his car, his apar...</td>\n",
              "    </tr>\n",
              "    <tr>\n",
              "      <th>1</th>\n",
              "      <td>2</td>\n",
              "      <td>La guerra de papá (1977)</td>\n",
              "      <td>Spain, March 1964: Quico is a very naughty ch...</td>\n",
              "    </tr>\n",
              "    <tr>\n",
              "      <th>2</th>\n",
              "      <td>3</td>\n",
              "      <td>Off the Beaten Track (2010)</td>\n",
              "      <td>One year in the life of Albin and his family ...</td>\n",
              "    </tr>\n",
              "    <tr>\n",
              "      <th>3</th>\n",
              "      <td>4</td>\n",
              "      <td>Meu Amigo Hindu (2015)</td>\n",
              "      <td>His father has died, he hasn't spoken with hi...</td>\n",
              "    </tr>\n",
              "    <tr>\n",
              "      <th>4</th>\n",
              "      <td>5</td>\n",
              "      <td>Er nu zhai (1955)</td>\n",
              "      <td>Before he was known internationally as a mart...</td>\n",
              "    </tr>\n",
              "    <tr>\n",
              "      <th>5</th>\n",
              "      <td>6</td>\n",
              "      <td>Riddle Room (2016)</td>\n",
              "      <td>Emily Burns is being held captive in a room w...</td>\n",
              "    </tr>\n",
              "    <tr>\n",
              "      <th>6</th>\n",
              "      <td>7</td>\n",
              "      <td>L'amica (1969)</td>\n",
              "      <td>The beautiful but neglected wife of a brillia...</td>\n",
              "    </tr>\n",
              "    <tr>\n",
              "      <th>7</th>\n",
              "      <td>8</td>\n",
              "      <td>Ina Mina Dika (1989)</td>\n",
              "      <td>Vasu Inamdar (Ina) suffers from a disorder wh...</td>\n",
              "    </tr>\n",
              "    <tr>\n",
              "      <th>8</th>\n",
              "      <td>9</td>\n",
              "      <td>Equinox Special: Britain's Tornados (2005)</td>\n",
              "      <td>An insight into the tornados that hit Kensal ...</td>\n",
              "    </tr>\n",
              "    <tr>\n",
              "      <th>9</th>\n",
              "      <td>10</td>\n",
              "      <td>Press (2011)</td>\n",
              "      <td>Press is a story of young people overwhelmed ...</td>\n",
              "    </tr>\n",
              "    <tr>\n",
              "      <th>10</th>\n",
              "      <td>11</td>\n",
              "      <td>The Firm Man (1975)</td>\n",
              "      <td>Not much is known about the firm for which bu...</td>\n",
              "    </tr>\n",
              "    <tr>\n",
              "      <th>11</th>\n",
              "      <td>12</td>\n",
              "      <td>Out of Here (2013/I)</td>\n",
              "      <td>After a year traveling the world, twentysomet...</td>\n",
              "    </tr>\n",
              "    <tr>\n",
              "      <th>12</th>\n",
              "      <td>13</td>\n",
              "      <td>Tip 2 (1990)</td>\n",
              "      <td>Young-ja initially mocks the shy, introverted...</td>\n",
              "    </tr>\n",
              "    <tr>\n",
              "      <th>13</th>\n",
              "      <td>14</td>\n",
              "      <td>Hero of the Day (2012)</td>\n",
              "      <td>Mark Chambers, a down and out former professi...</td>\n",
              "    </tr>\n",
              "    <tr>\n",
              "      <th>14</th>\n",
              "      <td>15</td>\n",
              "      <td>Das letzte Mal (2000)</td>\n",
              "      <td>On the night a husband finally brings himself...</td>\n",
              "    </tr>\n",
              "    <tr>\n",
              "      <th>15</th>\n",
              "      <td>16</td>\n",
              "      <td>The Man in Every Shot (2010)</td>\n",
              "      <td>Ex-Formula 1 rookie of the year and Motor Rac...</td>\n",
              "    </tr>\n",
              "    <tr>\n",
              "      <th>16</th>\n",
              "      <td>17</td>\n",
              "      <td>The Kettles on Old MacDonald's Farm (1957)</td>\n",
              "      <td>Ma and Pa do their bit to hook lumberman Brad...</td>\n",
              "    </tr>\n",
              "    <tr>\n",
              "      <th>17</th>\n",
              "      <td>18</td>\n",
              "      <td>The Patriot (1916)</td>\n",
              "      <td>Bob Wiley, a veteran and a patriot, discovers...</td>\n",
              "    </tr>\n",
              "    <tr>\n",
              "      <th>18</th>\n",
              "      <td>19</td>\n",
              "      <td>\"The Rogue Legends Series\" (2017)</td>\n",
              "      <td>Eugen Sandow was a German strongman, circus p...</td>\n",
              "    </tr>\n",
              "    <tr>\n",
              "      <th>19</th>\n",
              "      <td>20</td>\n",
              "      <td>A Case of Mistaken Identity? (2008)</td>\n",
              "      <td>Joseph Jacoby introduces himself. He's a writ...</td>\n",
              "    </tr>\n",
              "  </tbody>\n",
              "</table>\n",
              "</div>"
            ],
            "text/plain": [
              "    Id                                         Title  \\\n",
              "0    1                         Edgar's Lunch (1998)    \n",
              "1    2                     La guerra de papá (1977)    \n",
              "2    3                  Off the Beaten Track (2010)    \n",
              "3    4                       Meu Amigo Hindu (2015)    \n",
              "4    5                            Er nu zhai (1955)    \n",
              "5    6                           Riddle Room (2016)    \n",
              "6    7                               L'amica (1969)    \n",
              "7    8                         Ina Mina Dika (1989)    \n",
              "8    9   Equinox Special: Britain's Tornados (2005)    \n",
              "9   10                                 Press (2011)    \n",
              "10  11                          The Firm Man (1975)    \n",
              "11  12                         Out of Here (2013/I)    \n",
              "12  13                                 Tip 2 (1990)    \n",
              "13  14                       Hero of the Day (2012)    \n",
              "14  15                        Das letzte Mal (2000)    \n",
              "15  16                 The Man in Every Shot (2010)    \n",
              "16  17   The Kettles on Old MacDonald's Farm (1957)    \n",
              "17  18                           The Patriot (1916)    \n",
              "18  19            \"The Rogue Legends Series\" (2017)    \n",
              "19  20          A Case of Mistaken Identity? (2008)    \n",
              "\n",
              "                                          Description  \n",
              "0    L.R. Brane loves his life - his car, his apar...  \n",
              "1    Spain, March 1964: Quico is a very naughty ch...  \n",
              "2    One year in the life of Albin and his family ...  \n",
              "3    His father has died, he hasn't spoken with hi...  \n",
              "4    Before he was known internationally as a mart...  \n",
              "5    Emily Burns is being held captive in a room w...  \n",
              "6    The beautiful but neglected wife of a brillia...  \n",
              "7    Vasu Inamdar (Ina) suffers from a disorder wh...  \n",
              "8    An insight into the tornados that hit Kensal ...  \n",
              "9    Press is a story of young people overwhelmed ...  \n",
              "10   Not much is known about the firm for which bu...  \n",
              "11   After a year traveling the world, twentysomet...  \n",
              "12   Young-ja initially mocks the shy, introverted...  \n",
              "13   Mark Chambers, a down and out former professi...  \n",
              "14   On the night a husband finally brings himself...  \n",
              "15   Ex-Formula 1 rookie of the year and Motor Rac...  \n",
              "16   Ma and Pa do their bit to hook lumberman Brad...  \n",
              "17   Bob Wiley, a veteran and a patriot, discovers...  \n",
              "18   Eugen Sandow was a German strongman, circus p...  \n",
              "19   Joseph Jacoby introduces himself. He's a writ...  "
            ]
          },
          "execution_count": 10,
          "metadata": {},
          "output_type": "execute_result"
        }
      ],
      "source": [
        "test_data.head(20)"
      ]
    },
    {
      "cell_type": "code",
      "execution_count": null,
      "id": "9ad677b2",
      "metadata": {
        "execution": {
          "iopub.execute_input": "2024-08-03T16:11:58.865072Z",
          "iopub.status.busy": "2024-08-03T16:11:58.864676Z",
          "iopub.status.idle": "2024-08-03T16:11:58.885006Z",
          "shell.execute_reply": "2024-08-03T16:11:58.883851Z"
        },
        "papermill": {
          "duration": 0.03221,
          "end_time": "2024-08-03T16:11:58.887510",
          "exception": false,
          "start_time": "2024-08-03T16:11:58.855300",
          "status": "completed"
        },
        "tags": [],
        "id": "9ad677b2",
        "outputId": "6080ff36-02ed-4fc6-9f85-fdbc54fd467c"
      },
      "outputs": [
        {
          "data": {
            "text/plain": [
              "Id             0\n",
              "Title          0\n",
              "Description    0\n",
              "dtype: int64"
            ]
          },
          "execution_count": 11,
          "metadata": {},
          "output_type": "execute_result"
        }
      ],
      "source": [
        "test_data.isnull().sum()"
      ]
    },
    {
      "cell_type": "code",
      "execution_count": null,
      "id": "5d3d0a1b",
      "metadata": {
        "execution": {
          "iopub.execute_input": "2024-08-03T16:11:58.905217Z",
          "iopub.status.busy": "2024-08-03T16:11:58.904802Z",
          "iopub.status.idle": "2024-08-03T16:11:58.926694Z",
          "shell.execute_reply": "2024-08-03T16:11:58.925533Z"
        },
        "papermill": {
          "duration": 0.033588,
          "end_time": "2024-08-03T16:11:58.929093",
          "exception": false,
          "start_time": "2024-08-03T16:11:58.895505",
          "status": "completed"
        },
        "tags": [],
        "id": "5d3d0a1b",
        "outputId": "2cc78ea5-5de8-4dd1-f1cc-87d27d94f57b"
      },
      "outputs": [
        {
          "name": "stdout",
          "output_type": "stream",
          "text": [
            "<class 'pandas.core.frame.DataFrame'>\n",
            "RangeIndex: 54200 entries, 0 to 54199\n",
            "Data columns (total 3 columns):\n",
            " #   Column       Non-Null Count  Dtype \n",
            "---  ------       --------------  ----- \n",
            " 0   Id           54200 non-null  int64 \n",
            " 1   Title        54200 non-null  object\n",
            " 2   Description  54200 non-null  object\n",
            "dtypes: int64(1), object(2)\n",
            "memory usage: 1.2+ MB\n"
          ]
        }
      ],
      "source": [
        "test_data.info()"
      ]
    },
    {
      "cell_type": "code",
      "execution_count": null,
      "id": "3988f9ba",
      "metadata": {
        "execution": {
          "iopub.execute_input": "2024-08-03T16:11:58.948926Z",
          "iopub.status.busy": "2024-08-03T16:11:58.947872Z",
          "iopub.status.idle": "2024-08-03T16:11:58.969794Z",
          "shell.execute_reply": "2024-08-03T16:11:58.968551Z"
        },
        "papermill": {
          "duration": 0.034322,
          "end_time": "2024-08-03T16:11:58.972450",
          "exception": false,
          "start_time": "2024-08-03T16:11:58.938128",
          "status": "completed"
        },
        "tags": [],
        "id": "3988f9ba",
        "outputId": "ffe6874d-7edf-4656-bc53-f2aee7034107"
      },
      "outputs": [
        {
          "data": {
            "text/html": [
              "<div>\n",
              "<style scoped>\n",
              "    .dataframe tbody tr th:only-of-type {\n",
              "        vertical-align: middle;\n",
              "    }\n",
              "\n",
              "    .dataframe tbody tr th {\n",
              "        vertical-align: top;\n",
              "    }\n",
              "\n",
              "    .dataframe thead th {\n",
              "        text-align: right;\n",
              "    }\n",
              "</style>\n",
              "<table border=\"1\" class=\"dataframe\">\n",
              "  <thead>\n",
              "    <tr style=\"text-align: right;\">\n",
              "      <th></th>\n",
              "      <th>Id</th>\n",
              "    </tr>\n",
              "  </thead>\n",
              "  <tbody>\n",
              "    <tr>\n",
              "      <th>count</th>\n",
              "      <td>54200.000000</td>\n",
              "    </tr>\n",
              "    <tr>\n",
              "      <th>mean</th>\n",
              "      <td>27100.500000</td>\n",
              "    </tr>\n",
              "    <tr>\n",
              "      <th>std</th>\n",
              "      <td>15646.336632</td>\n",
              "    </tr>\n",
              "    <tr>\n",
              "      <th>min</th>\n",
              "      <td>1.000000</td>\n",
              "    </tr>\n",
              "    <tr>\n",
              "      <th>25%</th>\n",
              "      <td>13550.750000</td>\n",
              "    </tr>\n",
              "    <tr>\n",
              "      <th>50%</th>\n",
              "      <td>27100.500000</td>\n",
              "    </tr>\n",
              "    <tr>\n",
              "      <th>75%</th>\n",
              "      <td>40650.250000</td>\n",
              "    </tr>\n",
              "    <tr>\n",
              "      <th>max</th>\n",
              "      <td>54200.000000</td>\n",
              "    </tr>\n",
              "  </tbody>\n",
              "</table>\n",
              "</div>"
            ],
            "text/plain": [
              "                 Id\n",
              "count  54200.000000\n",
              "mean   27100.500000\n",
              "std    15646.336632\n",
              "min        1.000000\n",
              "25%    13550.750000\n",
              "50%    27100.500000\n",
              "75%    40650.250000\n",
              "max    54200.000000"
            ]
          },
          "execution_count": 13,
          "metadata": {},
          "output_type": "execute_result"
        }
      ],
      "source": [
        "test_data.describe()"
      ]
    },
    {
      "cell_type": "code",
      "execution_count": null,
      "id": "38f6cf4f",
      "metadata": {
        "execution": {
          "iopub.execute_input": "2024-08-03T16:11:58.990977Z",
          "iopub.status.busy": "2024-08-03T16:11:58.990572Z",
          "iopub.status.idle": "2024-08-03T16:11:59.802106Z",
          "shell.execute_reply": "2024-08-03T16:11:59.800791Z"
        },
        "papermill": {
          "duration": 0.824098,
          "end_time": "2024-08-03T16:11:59.804881",
          "exception": false,
          "start_time": "2024-08-03T16:11:58.980783",
          "status": "completed"
        },
        "tags": [],
        "id": "38f6cf4f"
      },
      "outputs": [],
      "source": [
        "# Load test data solution\n",
        "test_solution_path = \"/kaggle/input/genre-classification-dataset-imdb/Genre Classification Dataset/test_data_solution.txt\"\n",
        "test_solution = pd.read_csv(test_solution_path, sep=\":::\", names=['Id', 'Title', 'Gener', 'Description'], engine=\"python\")\n"
      ]
    },
    {
      "cell_type": "code",
      "execution_count": null,
      "id": "81e3cd05",
      "metadata": {
        "execution": {
          "iopub.execute_input": "2024-08-03T16:11:59.823570Z",
          "iopub.status.busy": "2024-08-03T16:11:59.823154Z",
          "iopub.status.idle": "2024-08-03T16:11:59.837099Z",
          "shell.execute_reply": "2024-08-03T16:11:59.835769Z"
        },
        "papermill": {
          "duration": 0.026192,
          "end_time": "2024-08-03T16:11:59.839701",
          "exception": false,
          "start_time": "2024-08-03T16:11:59.813509",
          "status": "completed"
        },
        "tags": [],
        "id": "81e3cd05",
        "outputId": "969b8179-e081-4dd3-c8ac-c002e2b9f9e1"
      },
      "outputs": [
        {
          "data": {
            "text/html": [
              "<div>\n",
              "<style scoped>\n",
              "    .dataframe tbody tr th:only-of-type {\n",
              "        vertical-align: middle;\n",
              "    }\n",
              "\n",
              "    .dataframe tbody tr th {\n",
              "        vertical-align: top;\n",
              "    }\n",
              "\n",
              "    .dataframe thead th {\n",
              "        text-align: right;\n",
              "    }\n",
              "</style>\n",
              "<table border=\"1\" class=\"dataframe\">\n",
              "  <thead>\n",
              "    <tr style=\"text-align: right;\">\n",
              "      <th></th>\n",
              "      <th>Id</th>\n",
              "      <th>Title</th>\n",
              "      <th>Gener</th>\n",
              "      <th>Description</th>\n",
              "    </tr>\n",
              "  </thead>\n",
              "  <tbody>\n",
              "    <tr>\n",
              "      <th>0</th>\n",
              "      <td>1</td>\n",
              "      <td>Edgar's Lunch (1998)</td>\n",
              "      <td>thriller</td>\n",
              "      <td>L.R. Brane loves his life - his car, his apar...</td>\n",
              "    </tr>\n",
              "    <tr>\n",
              "      <th>1</th>\n",
              "      <td>2</td>\n",
              "      <td>La guerra de papá (1977)</td>\n",
              "      <td>comedy</td>\n",
              "      <td>Spain, March 1964: Quico is a very naughty ch...</td>\n",
              "    </tr>\n",
              "    <tr>\n",
              "      <th>2</th>\n",
              "      <td>3</td>\n",
              "      <td>Off the Beaten Track (2010)</td>\n",
              "      <td>documentary</td>\n",
              "      <td>One year in the life of Albin and his family ...</td>\n",
              "    </tr>\n",
              "    <tr>\n",
              "      <th>3</th>\n",
              "      <td>4</td>\n",
              "      <td>Meu Amigo Hindu (2015)</td>\n",
              "      <td>drama</td>\n",
              "      <td>His father has died, he hasn't spoken with hi...</td>\n",
              "    </tr>\n",
              "    <tr>\n",
              "      <th>4</th>\n",
              "      <td>5</td>\n",
              "      <td>Er nu zhai (1955)</td>\n",
              "      <td>drama</td>\n",
              "      <td>Before he was known internationally as a mart...</td>\n",
              "    </tr>\n",
              "    <tr>\n",
              "      <th>5</th>\n",
              "      <td>6</td>\n",
              "      <td>Riddle Room (2016)</td>\n",
              "      <td>horror</td>\n",
              "      <td>Emily Burns is being held captive in a room w...</td>\n",
              "    </tr>\n",
              "    <tr>\n",
              "      <th>6</th>\n",
              "      <td>7</td>\n",
              "      <td>L'amica (1969)</td>\n",
              "      <td>drama</td>\n",
              "      <td>The beautiful but neglected wife of a brillia...</td>\n",
              "    </tr>\n",
              "    <tr>\n",
              "      <th>7</th>\n",
              "      <td>8</td>\n",
              "      <td>Ina Mina Dika (1989)</td>\n",
              "      <td>comedy</td>\n",
              "      <td>Vasu Inamdar (Ina) suffers from a disorder wh...</td>\n",
              "    </tr>\n",
              "    <tr>\n",
              "      <th>8</th>\n",
              "      <td>9</td>\n",
              "      <td>Equinox Special: Britain's Tornados (2005)</td>\n",
              "      <td>documentary</td>\n",
              "      <td>An insight into the tornados that hit Kensal ...</td>\n",
              "    </tr>\n",
              "    <tr>\n",
              "      <th>9</th>\n",
              "      <td>10</td>\n",
              "      <td>Press (2011)</td>\n",
              "      <td>drama</td>\n",
              "      <td>Press is a story of young people overwhelmed ...</td>\n",
              "    </tr>\n",
              "  </tbody>\n",
              "</table>\n",
              "</div>"
            ],
            "text/plain": [
              "   Id                                         Title          Gener  \\\n",
              "0   1                         Edgar's Lunch (1998)       thriller    \n",
              "1   2                     La guerra de papá (1977)         comedy    \n",
              "2   3                  Off the Beaten Track (2010)    documentary    \n",
              "3   4                       Meu Amigo Hindu (2015)          drama    \n",
              "4   5                            Er nu zhai (1955)          drama    \n",
              "5   6                           Riddle Room (2016)         horror    \n",
              "6   7                               L'amica (1969)          drama    \n",
              "7   8                         Ina Mina Dika (1989)         comedy    \n",
              "8   9   Equinox Special: Britain's Tornados (2005)    documentary    \n",
              "9  10                                 Press (2011)          drama    \n",
              "\n",
              "                                         Description  \n",
              "0   L.R. Brane loves his life - his car, his apar...  \n",
              "1   Spain, March 1964: Quico is a very naughty ch...  \n",
              "2   One year in the life of Albin and his family ...  \n",
              "3   His father has died, he hasn't spoken with hi...  \n",
              "4   Before he was known internationally as a mart...  \n",
              "5   Emily Burns is being held captive in a room w...  \n",
              "6   The beautiful but neglected wife of a brillia...  \n",
              "7   Vasu Inamdar (Ina) suffers from a disorder wh...  \n",
              "8   An insight into the tornados that hit Kensal ...  \n",
              "9   Press is a story of young people overwhelmed ...  "
            ]
          },
          "execution_count": 15,
          "metadata": {},
          "output_type": "execute_result"
        }
      ],
      "source": [
        "test_solution.head(10)"
      ]
    },
    {
      "cell_type": "code",
      "execution_count": null,
      "id": "db4529e5",
      "metadata": {
        "execution": {
          "iopub.execute_input": "2024-08-03T16:11:59.858864Z",
          "iopub.status.busy": "2024-08-03T16:11:59.858429Z",
          "iopub.status.idle": "2024-08-03T16:12:00.494879Z",
          "shell.execute_reply": "2024-08-03T16:12:00.493532Z"
        },
        "papermill": {
          "duration": 0.648812,
          "end_time": "2024-08-03T16:12:00.497281",
          "exception": false,
          "start_time": "2024-08-03T16:11:59.848469",
          "status": "completed"
        },
        "tags": [],
        "id": "db4529e5",
        "outputId": "b4768b39-c5fb-42a6-aa44-e82b0dc15548"
      },
      "outputs": [
        {
          "data": {
            "image/png": "[encoded data removed]",
            "text/plain": [
              "<Figure size 1200x600 with 1 Axes>"
            ]
          },
          "metadata": {},
          "output_type": "display_data"
        }
      ],
      "source": [
        "genre_counts = train_data['Genre'].value_counts()\n",
        "genre_counts = genre_counts.sort_values(ascending=False)\n",
        "plt.figure(figsize=(12, 6))\n",
        "sns.barplot(x=genre_counts.index, y=genre_counts.values, palette='viridis')\n",
        "plt.title('Distribution of Genres in Training Data', fontsize=16)\n",
        "plt.xlabel('Genre', fontsize=12)\n",
        "plt.ylabel('Count', fontsize=12)\n",
        "plt.xticks(rotation=45, ha='right')\n",
        "plt.grid(True, axis='y', linestyle='--', alpha=0.7)\n",
        "plt.tight_layout()\n",
        "plt.show()\n"
      ]
    },
    {
      "cell_type": "code",
      "execution_count": null,
      "id": "a401dbbb",
      "metadata": {
        "execution": {
          "iopub.execute_input": "2024-08-03T16:12:00.519055Z",
          "iopub.status.busy": "2024-08-03T16:12:00.518641Z",
          "iopub.status.idle": "2024-08-03T16:13:10.772552Z",
          "shell.execute_reply": "2024-08-03T16:13:10.771297Z"
        },
        "papermill": {
          "duration": 70.267937,
          "end_time": "2024-08-03T16:13:10.775285",
          "exception": false,
          "start_time": "2024-08-03T16:12:00.507348",
          "status": "completed"
        },
        "tags": [],
        "id": "a401dbbb"
      },
      "outputs": [],
      "source": [
        "import nltk #a powerful library for working with human language data.\n",
        "from nltk.corpus import stopwords #for cleaning\n",
        "from nltk.stem import LancasterStemmer ##\n",
        "\n",
        "stemmer = LancasterStemmer()\n",
        "stop_words = set(stopwords.words(\"english\"))  # Stopwords set\n",
        "\n",
        "def cleaning_data(text):\n",
        "    text = text.lower()\n",
        "    text = re.sub(r'@\\S+', '', text)\n",
        "    text = re.sub(r'http\\S+', '', text)\n",
        "    text = re.sub(r'.pic\\S+', '', text)\n",
        "    text = re.sub(r'[^a-zA-Z+]', ' ', text)  # Change to replace non-characters with a space\n",
        "    text = \"\".join([i for i in text if i not in string.punctuation])\n",
        "    words = nltk.word_tokenize(text)\n",
        "    # Use the predefined stop_words variable instead of redefining it inside the function\n",
        "    text = \" \".join([i for i in words if i not in stop_words and len(i) > 2])\n",
        "    text = re.sub(r\"\\s+\", \" \", text).strip()  # Replace multiple spaces with a single space\n",
        "    return text\n",
        "\n",
        "train_data['clean_description'] = train_data['Description'].apply(cleaning_data)\n",
        "test_data['clean_description'] = test_data['Description'].apply(cleaning_data)"
      ]
    },
    {
      "cell_type": "code",
      "execution_count": null,
      "id": "f01a77c4",
      "metadata": {
        "execution": {
          "iopub.execute_input": "2024-08-03T16:13:10.797492Z",
          "iopub.status.busy": "2024-08-03T16:13:10.797053Z",
          "iopub.status.idle": "2024-08-03T16:13:46.089911Z",
          "shell.execute_reply": "2024-08-03T16:13:46.088505Z"
        },
        "papermill": {
          "duration": 35.306774,
          "end_time": "2024-08-03T16:13:46.092772",
          "exception": false,
          "start_time": "2024-08-03T16:13:10.785998",
          "status": "completed"
        },
        "tags": [],
        "id": "f01a77c4"
      },
      "outputs": [],
      "source": [
        "test_solution['clean_description'] = test_solution['Description'].apply(cleaning_data)"
      ]
    },
    {
      "cell_type": "code",
      "execution_count": null,
      "id": "a82bc95f",
      "metadata": {
        "execution": {
          "iopub.execute_input": "2024-08-03T16:13:46.115033Z",
          "iopub.status.busy": "2024-08-03T16:13:46.114618Z",
          "iopub.status.idle": "2024-08-03T16:13:46.129131Z",
          "shell.execute_reply": "2024-08-03T16:13:46.128013Z"
        },
        "papermill": {
          "duration": 0.028861,
          "end_time": "2024-08-03T16:13:46.131849",
          "exception": false,
          "start_time": "2024-08-03T16:13:46.102988",
          "status": "completed"
        },
        "tags": [],
        "id": "a82bc95f",
        "outputId": "2fac23c0-4af5-47a9-d887-dfbd1e273ac8"
      },
      "outputs": [
        {
          "data": {
            "text/html": [
              "<div>\n",
              "<style scoped>\n",
              "    .dataframe tbody tr th:only-of-type {\n",
              "        vertical-align: middle;\n",
              "    }\n",
              "\n",
              "    .dataframe tbody tr th {\n",
              "        vertical-align: top;\n",
              "    }\n",
              "\n",
              "    .dataframe thead th {\n",
              "        text-align: right;\n",
              "    }\n",
              "</style>\n",
              "<table border=\"1\" class=\"dataframe\">\n",
              "  <thead>\n",
              "    <tr style=\"text-align: right;\">\n",
              "      <th></th>\n",
              "      <th>Id</th>\n",
              "      <th>Title</th>\n",
              "      <th>Description</th>\n",
              "      <th>clean_description</th>\n",
              "    </tr>\n",
              "  </thead>\n",
              "  <tbody>\n",
              "    <tr>\n",
              "      <th>0</th>\n",
              "      <td>1</td>\n",
              "      <td>Edgar's Lunch (1998)</td>\n",
              "      <td>L.R. Brane loves his life - his car, his apar...</td>\n",
              "      <td>brane loves life car apartment job especially ...</td>\n",
              "    </tr>\n",
              "    <tr>\n",
              "      <th>1</th>\n",
              "      <td>2</td>\n",
              "      <td>La guerra de papá (1977)</td>\n",
              "      <td>Spain, March 1964: Quico is a very naughty ch...</td>\n",
              "      <td>spain march quico naughty child three belongin...</td>\n",
              "    </tr>\n",
              "    <tr>\n",
              "      <th>2</th>\n",
              "      <td>3</td>\n",
              "      <td>Off the Beaten Track (2010)</td>\n",
              "      <td>One year in the life of Albin and his family ...</td>\n",
              "      <td>one year life albin family shepherds north tra...</td>\n",
              "    </tr>\n",
              "    <tr>\n",
              "      <th>3</th>\n",
              "      <td>4</td>\n",
              "      <td>Meu Amigo Hindu (2015)</td>\n",
              "      <td>His father has died, he hasn't spoken with hi...</td>\n",
              "      <td>father died spoken brother years serious cance...</td>\n",
              "    </tr>\n",
              "    <tr>\n",
              "      <th>4</th>\n",
              "      <td>5</td>\n",
              "      <td>Er nu zhai (1955)</td>\n",
              "      <td>Before he was known internationally as a mart...</td>\n",
              "      <td>known internationally martial arts superstar b...</td>\n",
              "    </tr>\n",
              "    <tr>\n",
              "      <th>5</th>\n",
              "      <td>6</td>\n",
              "      <td>Riddle Room (2016)</td>\n",
              "      <td>Emily Burns is being held captive in a room w...</td>\n",
              "      <td>emily burns held captive room idea got determi...</td>\n",
              "    </tr>\n",
              "    <tr>\n",
              "      <th>6</th>\n",
              "      <td>7</td>\n",
              "      <td>L'amica (1969)</td>\n",
              "      <td>The beautiful but neglected wife of a brillia...</td>\n",
              "      <td>beautiful neglected wife brilliant architect m...</td>\n",
              "    </tr>\n",
              "    <tr>\n",
              "      <th>7</th>\n",
              "      <td>8</td>\n",
              "      <td>Ina Mina Dika (1989)</td>\n",
              "      <td>Vasu Inamdar (Ina) suffers from a disorder wh...</td>\n",
              "      <td>vasu inamdar ina suffers disorder sees comes d...</td>\n",
              "    </tr>\n",
              "    <tr>\n",
              "      <th>8</th>\n",
              "      <td>9</td>\n",
              "      <td>Equinox Special: Britain's Tornados (2005)</td>\n",
              "      <td>An insight into the tornados that hit Kensal ...</td>\n",
              "      <td>insight tornados hit kensal rise birmingham su...</td>\n",
              "    </tr>\n",
              "    <tr>\n",
              "      <th>9</th>\n",
              "      <td>10</td>\n",
              "      <td>Press (2011)</td>\n",
              "      <td>Press is a story of young people overwhelmed ...</td>\n",
              "      <td>press story young people overwhelmed social di...</td>\n",
              "    </tr>\n",
              "    <tr>\n",
              "      <th>10</th>\n",
              "      <td>11</td>\n",
              "      <td>The Firm Man (1975)</td>\n",
              "      <td>Not much is known about the firm for which bu...</td>\n",
              "      <td>much known firm businessman gerald baxter work...</td>\n",
              "    </tr>\n",
              "    <tr>\n",
              "      <th>11</th>\n",
              "      <td>12</td>\n",
              "      <td>Out of Here (2013/I)</td>\n",
              "      <td>After a year traveling the world, twentysomet...</td>\n",
              "      <td>year traveling world twentysomething ciaran re...</td>\n",
              "    </tr>\n",
              "    <tr>\n",
              "      <th>12</th>\n",
              "      <td>13</td>\n",
              "      <td>Tip 2 (1990)</td>\n",
              "      <td>Young-ja initially mocks the shy, introverted...</td>\n",
              "      <td>young initially mocks shy introverted hoon inf...</td>\n",
              "    </tr>\n",
              "    <tr>\n",
              "      <th>13</th>\n",
              "      <td>14</td>\n",
              "      <td>Hero of the Day (2012)</td>\n",
              "      <td>Mark Chambers, a down and out former professi...</td>\n",
              "      <td>mark chambers former professional football pla...</td>\n",
              "    </tr>\n",
              "    <tr>\n",
              "      <th>14</th>\n",
              "      <td>15</td>\n",
              "      <td>Das letzte Mal (2000)</td>\n",
              "      <td>On the night a husband finally brings himself...</td>\n",
              "      <td>night husband finally brings tell wife wants l...</td>\n",
              "    </tr>\n",
              "    <tr>\n",
              "      <th>15</th>\n",
              "      <td>16</td>\n",
              "      <td>The Man in Every Shot (2010)</td>\n",
              "      <td>Ex-Formula 1 rookie of the year and Motor Rac...</td>\n",
              "      <td>formula rookie year motor racing champion tiag...</td>\n",
              "    </tr>\n",
              "    <tr>\n",
              "      <th>16</th>\n",
              "      <td>17</td>\n",
              "      <td>The Kettles on Old MacDonald's Farm (1957)</td>\n",
              "      <td>Ma and Pa do their bit to hook lumberman Brad...</td>\n",
              "      <td>bit hook lumberman brad johnson spoiled social...</td>\n",
              "    </tr>\n",
              "    <tr>\n",
              "      <th>17</th>\n",
              "      <td>18</td>\n",
              "      <td>The Patriot (1916)</td>\n",
              "      <td>Bob Wiley, a veteran and a patriot, discovers...</td>\n",
              "      <td>bob wiley veteran patriot discovers gold new m...</td>\n",
              "    </tr>\n",
              "    <tr>\n",
              "      <th>18</th>\n",
              "      <td>19</td>\n",
              "      <td>\"The Rogue Legends Series\" (2017)</td>\n",
              "      <td>Eugen Sandow was a German strongman, circus p...</td>\n",
              "      <td>eugen sandow german strongman circus performer...</td>\n",
              "    </tr>\n",
              "    <tr>\n",
              "      <th>19</th>\n",
              "      <td>20</td>\n",
              "      <td>A Case of Mistaken Identity? (2008)</td>\n",
              "      <td>Joseph Jacoby introduces himself. He's a writ...</td>\n",
              "      <td>joseph jacoby introduces writer filmmaker moth...</td>\n",
              "    </tr>\n",
              "  </tbody>\n",
              "</table>\n",
              "</div>"
            ],
            "text/plain": [
              "    Id                                         Title  \\\n",
              "0    1                         Edgar's Lunch (1998)    \n",
              "1    2                     La guerra de papá (1977)    \n",
              "2    3                  Off the Beaten Track (2010)    \n",
              "3    4                       Meu Amigo Hindu (2015)    \n",
              "4    5                            Er nu zhai (1955)    \n",
              "5    6                           Riddle Room (2016)    \n",
              "6    7                               L'amica (1969)    \n",
              "7    8                         Ina Mina Dika (1989)    \n",
              "8    9   Equinox Special: Britain's Tornados (2005)    \n",
              "9   10                                 Press (2011)    \n",
              "10  11                          The Firm Man (1975)    \n",
              "11  12                         Out of Here (2013/I)    \n",
              "12  13                                 Tip 2 (1990)    \n",
              "13  14                       Hero of the Day (2012)    \n",
              "14  15                        Das letzte Mal (2000)    \n",
              "15  16                 The Man in Every Shot (2010)    \n",
              "16  17   The Kettles on Old MacDonald's Farm (1957)    \n",
              "17  18                           The Patriot (1916)    \n",
              "18  19            \"The Rogue Legends Series\" (2017)    \n",
              "19  20          A Case of Mistaken Identity? (2008)    \n",
              "\n",
              "                                          Description  \\\n",
              "0    L.R. Brane loves his life - his car, his apar...   \n",
              "1    Spain, March 1964: Quico is a very naughty ch...   \n",
              "2    One year in the life of Albin and his family ...   \n",
              "3    His father has died, he hasn't spoken with hi...   \n",
              "4    Before he was known internationally as a mart...   \n",
              "5    Emily Burns is being held captive in a room w...   \n",
              "6    The beautiful but neglected wife of a brillia...   \n",
              "7    Vasu Inamdar (Ina) suffers from a disorder wh...   \n",
              "8    An insight into the tornados that hit Kensal ...   \n",
              "9    Press is a story of young people overwhelmed ...   \n",
              "10   Not much is known about the firm for which bu...   \n",
              "11   After a year traveling the world, twentysomet...   \n",
              "12   Young-ja initially mocks the shy, introverted...   \n",
              "13   Mark Chambers, a down and out former professi...   \n",
              "14   On the night a husband finally brings himself...   \n",
              "15   Ex-Formula 1 rookie of the year and Motor Rac...   \n",
              "16   Ma and Pa do their bit to hook lumberman Brad...   \n",
              "17   Bob Wiley, a veteran and a patriot, discovers...   \n",
              "18   Eugen Sandow was a German strongman, circus p...   \n",
              "19   Joseph Jacoby introduces himself. He's a writ...   \n",
              "\n",
              "                                    clean_description  \n",
              "0   brane loves life car apartment job especially ...  \n",
              "1   spain march quico naughty child three belongin...  \n",
              "2   one year life albin family shepherds north tra...  \n",
              "3   father died spoken brother years serious cance...  \n",
              "4   known internationally martial arts superstar b...  \n",
              "5   emily burns held captive room idea got determi...  \n",
              "6   beautiful neglected wife brilliant architect m...  \n",
              "7   vasu inamdar ina suffers disorder sees comes d...  \n",
              "8   insight tornados hit kensal rise birmingham su...  \n",
              "9   press story young people overwhelmed social di...  \n",
              "10  much known firm businessman gerald baxter work...  \n",
              "11  year traveling world twentysomething ciaran re...  \n",
              "12  young initially mocks shy introverted hoon inf...  \n",
              "13  mark chambers former professional football pla...  \n",
              "14  night husband finally brings tell wife wants l...  \n",
              "15  formula rookie year motor racing champion tiag...  \n",
              "16  bit hook lumberman brad johnson spoiled social...  \n",
              "17  bob wiley veteran patriot discovers gold new m...  \n",
              "18  eugen sandow german strongman circus performer...  \n",
              "19  joseph jacoby introduces writer filmmaker moth...  "
            ]
          },
          "execution_count": 19,
          "metadata": {},
          "output_type": "execute_result"
        }
      ],
      "source": [
        "test_data.head(20)"
      ]
    },
    {
      "cell_type": "code",
      "execution_count": null,
      "id": "c03ca24c",
      "metadata": {
        "execution": {
          "iopub.execute_input": "2024-08-03T16:13:46.153907Z",
          "iopub.status.busy": "2024-08-03T16:13:46.153519Z",
          "iopub.status.idle": "2024-08-03T16:13:46.170123Z",
          "shell.execute_reply": "2024-08-03T16:13:46.169011Z"
        },
        "papermill": {
          "duration": 0.030631,
          "end_time": "2024-08-03T16:13:46.172696",
          "exception": false,
          "start_time": "2024-08-03T16:13:46.142065",
          "status": "completed"
        },
        "tags": [],
        "id": "c03ca24c"
      },
      "outputs": [],
      "source": [
        "# Encode the target variable\n",
        "label_encoder = LabelEncoder()\n",
        "y_train = label_encoder.fit_transform(train_data['Genre'])\n"
      ]
    },
    {
      "cell_type": "code",
      "execution_count": null,
      "id": "a249592d",
      "metadata": {
        "execution": {
          "iopub.execute_input": "2024-08-03T16:13:46.194822Z",
          "iopub.status.busy": "2024-08-03T16:13:46.194377Z",
          "iopub.status.idle": "2024-08-03T16:13:46.200415Z",
          "shell.execute_reply": "2024-08-03T16:13:46.199182Z"
        },
        "papermill": {
          "duration": 0.019888,
          "end_time": "2024-08-03T16:13:46.202843",
          "exception": false,
          "start_time": "2024-08-03T16:13:46.182955",
          "status": "completed"
        },
        "tags": [],
        "id": "a249592d"
      },
      "outputs": [],
      "source": [
        "# Define the pipeline for SVC\n",
        "pipeline = Pipeline([\n",
        "    ('tfidf', TfidfVectorizer(max_df=0.9, ngram_range=(1, 2))),\n",
        "    ('model', SVC(kernel='linear', C=1))\n",
        "])"
      ]
    },
    {
      "cell_type": "code",
      "execution_count": null,
      "id": "d0526e7a",
      "metadata": {
        "execution": {
          "iopub.execute_input": "2024-08-03T16:13:46.225154Z",
          "iopub.status.busy": "2024-08-03T16:13:46.224756Z",
          "iopub.status.idle": "2024-08-03T16:13:46.241727Z",
          "shell.execute_reply": "2024-08-03T16:13:46.240396Z"
        },
        "papermill": {
          "duration": 0.031199,
          "end_time": "2024-08-03T16:13:46.244514",
          "exception": false,
          "start_time": "2024-08-03T16:13:46.213315",
          "status": "completed"
        },
        "tags": [],
        "id": "d0526e7a"
      },
      "outputs": [],
      "source": [
        "X_train, X_test, y_train, y_test = train_test_split(train_data['clean_description'], y_train, test_size=0.2, random_state=42)\n"
      ]
    },
    {
      "cell_type": "code",
      "execution_count": null,
      "id": "9e5a0096",
      "metadata": {
        "execution": {
          "iopub.execute_input": "2024-08-03T16:13:46.266955Z",
          "iopub.status.busy": "2024-08-03T16:13:46.266553Z",
          "iopub.status.idle": "2024-08-03T17:53:30.706877Z",
          "shell.execute_reply": "2024-08-03T17:53:30.705280Z"
        },
        "papermill": {
          "duration": 5984.465578,
          "end_time": "2024-08-03T17:53:30.720342",
          "exception": false,
          "start_time": "2024-08-03T16:13:46.254764",
          "status": "completed"
        },
        "tags": [],
        "id": "9e5a0096",
        "outputId": "28d105c4-785b-40f6-d31a-fbadbbf26e45"
      },
      "outputs": [
        {
          "data": {
            "text/html": [
              "<style>#sk-container-id-1 {color: black;background-color: white;}#sk-container-id-1 pre{padding: 0;}#sk-container-id-1 div.sk-toggleable {background-color: white;}#sk-container-id-1 label.sk-toggleable__label {cursor: pointer;display: block;width: 100%;margin-bottom: 0;padding: 0.3em;box-sizing: border-box;text-align: center;}#sk-container-id-1 label.sk-toggleable__label-arrow:before {content: \"▸\";float: left;margin-right: 0.25em;color: #696969;}#sk-container-id-1 label.sk-toggleable__label-arrow:hover:before {color: black;}#sk-container-id-1 div.sk-estimator:hover label.sk-toggleable__label-arrow:before {color: black;}#sk-container-id-1 div.sk-toggleable__content {max-height: 0;max-width: 0;overflow: hidden;text-align: left;background-color: #f0f8ff;}#sk-container-id-1 div.sk-toggleable__content pre {margin: 0.2em;color: black;border-radius: 0.25em;background-color: #f0f8ff;}#sk-container-id-1 input.sk-toggleable__control:checked~div.sk-toggleable__content {max-height: 200px;max-width: 100%;overflow: auto;}#sk-container-id-1 input.sk-toggleable__control:checked~label.sk-toggleable__label-arrow:before {content: \"▾\";}#sk-container-id-1 div.sk-estimator input.sk-toggleable__control:checked~label.sk-toggleable__label {background-color: #d4ebff;}#sk-container-id-1 div.sk-label input.sk-toggleable__control:checked~label.sk-toggleable__label {background-color: #d4ebff;}#sk-container-id-1 input.sk-hidden--visually {border: 0;clip: rect(1px 1px 1px 1px);clip: rect(1px, 1px, 1px, 1px);height: 1px;margin: -1px;overflow: hidden;padding: 0;position: absolute;width: 1px;}#sk-container-id-1 div.sk-estimator {font-family: monospace;background-color: #f0f8ff;border: 1px dotted black;border-radius: 0.25em;box-sizing: border-box;margin-bottom: 0.5em;}#sk-container-id-1 div.sk-estimator:hover {background-color: #d4ebff;}#sk-container-id-1 div.sk-parallel-item::after {content: \"\";width: 100%;border-bottom: 1px solid gray;flex-grow: 1;}#sk-container-id-1 div.sk-label:hover label.sk-toggleable__label {background-color: #d4ebff;}#sk-container-id-1 div.sk-serial::before {content: \"\";position: absolute;border-left: 1px solid gray;box-sizing: border-box;top: 0;bottom: 0;left: 50%;z-index: 0;}#sk-container-id-1 div.sk-serial {display: flex;flex-direction: column;align-items: center;background-color: white;padding-right: 0.2em;padding-left: 0.2em;position: relative;}#sk-container-id-1 div.sk-item {position: relative;z-index: 1;}#sk-container-id-1 div.sk-parallel {display: flex;align-items: stretch;justify-content: center;background-color: white;position: relative;}#sk-container-id-1 div.sk-item::before, #sk-container-id-1 div.sk-parallel-item::before {content: \"\";position: absolute;border-left: 1px solid gray;box-sizing: border-box;top: 0;bottom: 0;left: 50%;z-index: -1;}#sk-container-id-1 div.sk-parallel-item {display: flex;flex-direction: column;z-index: 1;position: relative;background-color: white;}#sk-container-id-1 div.sk-parallel-item:first-child::after {align-self: flex-end;width: 50%;}#sk-container-id-1 div.sk-parallel-item:last-child::after {align-self: flex-start;width: 50%;}#sk-container-id-1 div.sk-parallel-item:only-child::after {width: 0;}#sk-container-id-1 div.sk-dashed-wrapped {border: 1px dashed gray;margin: 0 0.4em 0.5em 0.4em;box-sizing: border-box;padding-bottom: 0.4em;background-color: white;}#sk-container-id-1 div.sk-label label {font-family: monospace;font-weight: bold;display: inline-block;line-height: 1.2em;}#sk-container-id-1 div.sk-label-container {text-align: center;}#sk-container-id-1 div.sk-container {/* jupyter's `normalize.less` sets `[hidden] { display: none; }` but bootstrap.min.css set `[hidden] { display: none !important; }` so we also need the `!important` here to be able to override the default hidden behavior on the sphinx rendered scikit-learn.org. See: https://github.com/scikit-learn/scikit-learn/issues/21755 */display: inline-block !important;position: relative;}#sk-container-id-1 div.sk-text-repr-fallback {display: none;}</style><div id=\"sk-container-id-1\" class=\"sk-top-container\"><div class=\"sk-text-repr-fallback\"><pre>Pipeline(steps=[(&#x27;tfidf&#x27;, TfidfVectorizer(max_df=0.9, ngram_range=(1, 2))),\n",
              "                (&#x27;model&#x27;, SVC(C=1, kernel=&#x27;linear&#x27;))])</pre><b>In a Jupyter environment, please rerun this cell to show the HTML representation or trust the notebook. <br />On GitHub, the HTML representation is unable to render, please try loading this page with nbviewer.org.</b></div><div class=\"sk-container\" hidden><div class=\"sk-item sk-dashed-wrapped\"><div class=\"sk-label-container\"><div class=\"sk-label sk-toggleable\"><input class=\"sk-toggleable__control sk-hidden--visually\" id=\"sk-estimator-id-1\" type=\"checkbox\" ><label for=\"sk-estimator-id-1\" class=\"sk-toggleable__label sk-toggleable__label-arrow\">Pipeline</label><div class=\"sk-toggleable__content\"><pre>Pipeline(steps=[(&#x27;tfidf&#x27;, TfidfVectorizer(max_df=0.9, ngram_range=(1, 2))),\n",
              "                (&#x27;model&#x27;, SVC(C=1, kernel=&#x27;linear&#x27;))])</pre></div></div></div><div class=\"sk-serial\"><div class=\"sk-item\"><div class=\"sk-estimator sk-toggleable\"><input class=\"sk-toggleable__control sk-hidden--visually\" id=\"sk-estimator-id-2\" type=\"checkbox\" ><label for=\"sk-estimator-id-2\" class=\"sk-toggleable__label sk-toggleable__label-arrow\">TfidfVectorizer</label><div class=\"sk-toggleable__content\"><pre>TfidfVectorizer(max_df=0.9, ngram_range=(1, 2))</pre></div></div></div><div class=\"sk-item\"><div class=\"sk-estimator sk-toggleable\"><input class=\"sk-toggleable__control sk-hidden--visually\" id=\"sk-estimator-id-3\" type=\"checkbox\" ><label for=\"sk-estimator-id-3\" class=\"sk-toggleable__label sk-toggleable__label-arrow\">SVC</label><div class=\"sk-toggleable__content\"><pre>SVC(C=1, kernel=&#x27;linear&#x27;)</pre></div></div></div></div></div></div></div>"
            ],
            "text/plain": [
              "Pipeline(steps=[('tfidf', TfidfVectorizer(max_df=0.9, ngram_range=(1, 2))),\n",
              "                ('model', SVC(C=1, kernel='linear'))])"
            ]
          },
          "execution_count": 23,
          "metadata": {},
          "output_type": "execute_result"
        }
      ],
      "source": [
        "# Train and evaluate the model\n",
        "pipeline.fit(X_train, y_train)"
      ]
    },
    {
      "cell_type": "code",
      "execution_count": null,
      "id": "9bf3b68f",
      "metadata": {
        "execution": {
          "iopub.execute_input": "2024-08-03T17:53:30.744302Z",
          "iopub.status.busy": "2024-08-03T17:53:30.743922Z",
          "iopub.status.idle": "2024-08-03T18:17:25.207455Z",
          "shell.execute_reply": "2024-08-03T18:17:25.206184Z"
        },
        "papermill": {
          "duration": 1434.489822,
          "end_time": "2024-08-03T18:17:25.220628",
          "exception": false,
          "start_time": "2024-08-03T17:53:30.730806",
          "status": "completed"
        },
        "tags": [],
        "id": "9bf3b68f",
        "outputId": "39b87c24-ddbc-4045-caf6-216e92f3ddd4"
      },
      "outputs": [
        {
          "name": "stdout",
          "output_type": "stream",
          "text": [
            "Training Accuracy: 0.9594429457471583\n"
          ]
        }
      ],
      "source": [
        "# Evaluate the model\n",
        "y_train_pred = pipeline.predict(X_train)\n",
        "train_accuracy = accuracy_score(y_train, y_train_pred)\n",
        "print(f\"Training Accuracy: {train_accuracy}\")"
      ]
    },
    {
      "cell_type": "code",
      "execution_count": null,
      "id": "52580d0a",
      "metadata": {
        "execution": {
          "iopub.execute_input": "2024-08-03T18:17:25.244639Z",
          "iopub.status.busy": "2024-08-03T18:17:25.244209Z",
          "iopub.status.idle": "2024-08-03T18:22:59.603671Z",
          "shell.execute_reply": "2024-08-03T18:22:59.602426Z"
        },
        "papermill": {
          "duration": 334.384778,
          "end_time": "2024-08-03T18:22:59.616068",
          "exception": false,
          "start_time": "2024-08-03T18:17:25.231290",
          "status": "completed"
        },
        "tags": [],
        "id": "52580d0a",
        "outputId": "1b24478c-f6bf-4bcb-fab0-73989a0dee83"
      },
      "outputs": [
        {
          "name": "stdout",
          "output_type": "stream",
          "text": [
            "Validation Accuracy: 0.5998339942820252\n"
          ]
        }
      ],
      "source": [
        "y_test_pred = pipeline.predict(X_test)\n",
        "test_accuracy = accuracy_score(y_test, y_test_pred)\n",
        "print(f\"Validation Accuracy: {test_accuracy}\")\n"
      ]
    },
    {
      "cell_type": "code",
      "execution_count": null,
      "id": "1e1f36be",
      "metadata": {
        "collapsed": true,
        "execution": {
          "iopub.execute_input": "2024-08-03T18:22:59.640353Z",
          "iopub.status.busy": "2024-08-03T18:22:59.639442Z",
          "iopub.status.idle": "2024-08-03T18:50:45.576276Z",
          "shell.execute_reply": "2024-08-03T18:50:45.574750Z"
        },
        "jupyter": {
          "outputs_hidden": true
        },
        "papermill": {
          "duration": 1665.9525,
          "end_time": "2024-08-03T18:50:45.579297",
          "exception": false,
          "start_time": "2024-08-03T18:22:59.626797",
          "status": "completed"
        },
        "tags": [],
        "id": "1e1f36be"
      },
      "outputs": [],
      "source": [
        "# Test with the actual test data\n",
        "test_descriptions = test_data['clean_description']\n",
        "test_predictions = pipeline.predict(test_descriptions)\n",
        "test_predictions_labels = label_encoder.inverse_transform(test_predictions)\n",
        "\n"
      ]
    },
    {
      "cell_type": "code",
      "execution_count": null,
      "id": "2da5aab7",
      "metadata": {
        "execution": {
          "iopub.execute_input": "2024-08-03T18:50:45.604111Z",
          "iopub.status.busy": "2024-08-03T18:50:45.603689Z",
          "iopub.status.idle": "2024-08-03T18:50:45.702979Z",
          "shell.execute_reply": "2024-08-03T18:50:45.701795Z"
        },
        "papermill": {
          "duration": 0.114605,
          "end_time": "2024-08-03T18:50:45.705421",
          "exception": false,
          "start_time": "2024-08-03T18:50:45.590816",
          "status": "completed"
        },
        "tags": [],
        "id": "2da5aab7",
        "outputId": "5b48cdbe-d2d6-4ff2-b0a0-932360c832eb"
      },
      "outputs": [
        {
          "name": "stdout",
          "output_type": "stream",
          "text": [
            "Test Data Accuracy: 0.5995756457564576\n"
          ]
        }
      ],
      "source": [
        "# Add predictions to test data\n",
        "test_data['Predicted_Gener'] = test_predictions_labels\n",
        "# Compare predictions with the actual genres from the solution\n",
        "test_solution = test_solution[['Id', 'Gener']]\n",
        "test_data = test_data[['Id', 'Predicted_Gener']]\n",
        "comparison_df = test_data.merge(test_solution, on='Id')\n",
        "comparison_df.columns = ['Id', 'Predicted_Gener', 'Actual_Gener']\n",
        "\n",
        "# Calculate accuracy\n",
        "accuracy = accuracy_score(comparison_df['Actual_Gener'], comparison_df['Predicted_Gener'])\n",
        "print(f\"Test Data Accuracy: {accuracy}\")"
      ]
    },
    {
      "cell_type": "code",
      "execution_count": null,
      "id": "449638fb",
      "metadata": {
        "papermill": {
          "duration": 0.010525,
          "end_time": "2024-08-03T18:50:45.726610",
          "exception": false,
          "start_time": "2024-08-03T18:50:45.716085",
          "status": "completed"
        },
        "tags": [],
        "id": "449638fb"
      },
      "outputs": [],
      "source": []
    }
  ],
  "metadata": {
    "kaggle": {
      "accelerator": "none",
      "dataSources": [
        {
          "datasetId": 1417162,
          "sourceId": 2347441,
          "sourceType": "datasetVersion"
        }
      ],
      "dockerImageVersionId": 30746,
      "isGpuEnabled": false,
      "isInternetEnabled": true,
      "language": "python",
      "sourceType": "notebook"
    },
    "kernelspec": {
      "display_name": "Python 3",
      "language": "python",
      "name": "python3"
    },
    "language_info": {
      "codemirror_mode": {
        "name": "ipython",
        "version": 3
      },
      "file_extension": ".py",
      "mimetype": "text/x-python",
      "name": "python",
      "nbconvert_exporter": "python",
      "pygments_lexer": "ipython3",
      "version": "3.10.13"
    },
    "papermill": {
      "default_parameters": {},
      "duration": 9536.980581,
      "end_time": "2024-08-03T18:50:46.877730",
      "environment_variables": {},
      "exception": null,
      "input_path": "__notebook__.ipynb",
      "output_path": "__notebook__.ipynb",
      "parameters": {},
      "start_time": "2024-08-03T16:11:49.897149",
      "version": "2.5.0"
    },
    "colab": {
      "provenance": []
    }
  },
  "nbformat": 4,
  "nbformat_minor": 5
}